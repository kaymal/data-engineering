{
 "cells": [
  {
   "cell_type": "markdown",
   "metadata": {},
   "source": [
    "# Software Engineering for Data Science"
   ]
  },
  {
   "cell_type": "code",
   "execution_count": 1,
   "metadata": {},
   "outputs": [],
   "source": [
    "# Import necessary modules\n",
    "%matplotlib inline\n",
    "import matplotlib.pyplot as plt"
   ]
  },
  {
   "cell_type": "markdown",
   "metadata": {},
   "source": [
    "## Introduction\n",
    "\n",
    "Software Engineering is the systematic application of scientific and technological knowledge, methods, and experience to the design, development, implementation, testing, maintenance and documentation of software."
   ]
  },
  {
   "cell_type": "code",
   "execution_count": 1,
   "metadata": {},
   "outputs": [
    {
     "name": "stdout",
     "output_type": "stream",
     "text": [
      "The Zen of Python, by Tim Peters\n",
      "\n",
      "Beautiful is better than ugly.\n",
      "Explicit is better than implicit.\n",
      "Simple is better than complex.\n",
      "Complex is better than complicated.\n",
      "Flat is better than nested.\n",
      "Sparse is better than dense.\n",
      "Readability counts.\n",
      "Special cases aren't special enough to break the rules.\n",
      "Although practicality beats purity.\n",
      "Errors should never pass silently.\n",
      "Unless explicitly silenced.\n",
      "In the face of ambiguity, refuse the temptation to guess.\n",
      "There should be one-- and preferably only one --obvious way to do it.\n",
      "Although that way may not be obvious at first unless you're Dutch.\n",
      "Now is better than never.\n",
      "Although never is often better than *right* now.\n",
      "If the implementation is hard to explain, it's a bad idea.\n",
      "If the implementation is easy to explain, it may be a good idea.\n",
      "Namespaces are one honking great idea -- let's do more of those!\n"
     ]
    }
   ],
   "source": [
    "# Display the Zen of Python\n",
    "import this"
   ]
  },
  {
   "cell_type": "markdown",
   "metadata": {},
   "source": [
    "### Important Concepts\n",
    "\n",
    "Some important concepts/fields of Software Engineering are as follows:\n",
    "\n",
    "- Modularity\n",
    "- Documentation\n",
    "- Testing\n",
    "- Maintenance\n",
    "- Version Control\n"
   ]
  },
  {
   "cell_type": "markdown",
   "metadata": {},
   "source": [
    "### PEP 8: Style Guide for Python Code\n",
    "\n",
    "PEP stands for Python Enhancement Proposal, and there are several of them. A PEP is a document that describes new features proposed for Python and documents aspects of Python, like design and style, for the community.\n",
    "\n",
    "[PEP 8](https://www.python.org/dev/peps/pep-0008/) is a document that provides guidelines and best practices on how to write Python code. It is essentially the _Style Guide for Python Code_. The primary focus is to improve the readability and consistency of Python code. [source](https://realpython.com/python-pep8/)\n",
    "\n",
    "Some topics covered in the PEP 8 document are:\n",
    "\n",
    "- Code Lay-out\n",
    "    - Indentation, \n",
    "    - Tabs or Spaces?, \n",
    "    - Maximum Line Length, etc.\n",
    "- String Quotes\n",
    "- Whitespace in Expressions and Statements\n",
    "- When to Use Trailing Commas\n",
    "- Comments\n",
    "- Naming Conventions\n",
    "    - Overriding Principle, \n",
    "    - Descriptive: Naming Styles, \n",
    "    - Prescriptive: Naming Conventions,\n",
    "    - Package and Module Names,\n",
    "    - Class Names, etc.\n",
    "- Programming Recommendations\n",
    "    - Function Annotations,\n",
    "    - Variable Annotations."
   ]
  },
  {
   "cell_type": "markdown",
   "metadata": {},
   "source": [
    "#### Check for PEP8\n",
    "\n",
    "There are different tools to check if the code conforms to the PEP 8 guidelines. One possible way to stay compliant is to use Jupyter Notebook/Lab extension (e.g. flake8, autopep8). Another way is to use an IDE such as VS Code or PyCharm that warns the user when we stray from the style guide. We can also check code using a package such as `pycodestyle`."
   ]
  },
  {
   "cell_type": "code",
   "execution_count": 5,
   "metadata": {},
   "outputs": [
    {
     "name": "stdout",
     "output_type": "stream",
     "text": [
      "Overwriting data/se/bad_pep8.py\n"
     ]
    }
   ],
   "source": [
    "%%writefile data/se/bad_pep8.py\n",
    "# Example non-compliant code\n",
    "\n",
    "x=2  # E225 missing whitespace around operator\n",
    "\n",
    "if x < 5:\n",
    " x += 1  # E111 indentation is not a multiple of four\n",
    "\n",
    "print( x  )  # 201 whitespace after '(',  E202 whitespace before ')'"
   ]
  },
  {
   "cell_type": "code",
   "execution_count": 6,
   "metadata": {},
   "outputs": [
    {
     "name": "stdout",
     "output_type": "stream",
     "text": [
      "Overwriting data/se/good_pep8.py\n"
     ]
    }
   ],
   "source": [
    "%%writefile data/se/good_pep8.py\n",
    "# Example PEP 8 compliant code\n",
    "\n",
    "x = 2\n",
    "\n",
    "if x < 5:\n",
    "    x += 1\n",
    "\n",
    "print(x)"
   ]
  },
  {
   "cell_type": "code",
   "execution_count": 7,
   "metadata": {},
   "outputs": [
    {
     "name": "stdout",
     "output_type": "stream",
     "text": [
      "data/se/bad_pep8.py:3:2: E225 missing whitespace around operator\n",
      "data/se/bad_pep8.py:6:2: E111 indentation is not a multiple of four\n",
      "data/se/bad_pep8.py:8:7: E201 whitespace after '('\n",
      "data/se/bad_pep8.py:8:10: E202 whitespace before ')'\n",
      "{'E225': 'missing whitespace around operator', 'E111': 'indentation is not a multiple of four', 'E201': \"whitespace after '('\", 'E202': \"whitespace before ')'\"}\n"
     ]
    }
   ],
   "source": [
    "# Import necessary package\n",
    "import pycodestyle\n",
    "\n",
    "# Create a StyleGuide instance\n",
    "style_checker = pycodestyle.StyleGuide()\n",
    "\n",
    "# Run PEP 8 check on multiple files\n",
    "result = style_checker.check_files(['data/se/bad_pep8.py', \n",
    "                                    'data/se/good_pep8.py'])\n",
    "\n",
    "# Print result of PEP 8 style check\n",
    "print(result.messages)"
   ]
  },
  {
   "cell_type": "markdown",
   "metadata": {},
   "source": [
    "#### Naming Conventions\n",
    "\n",
    "Type|Naming Convention|Examples\n",
    ":---|:---|:---\n",
    "Function|Lowercase word or words. Separate words by underscores to improve readability.|`function`, `my_function`\n",
    "Variable|Lowercase single letter (*), word, or words. Separate words with underscores to improve readability.|`x`, `var`, `my_variable`\n",
    "Class|Each word start with a capital letter. Do not separate words with underscores. This style is called camel case.|`Model`, `MyClass`\n",
    "Method|Lowercase word or words. Separate words with underscores to improve readability.|`class_method`, `method`\n",
    "Constant|An uppercase single letter (*), word, or words. Separate words with underscores to improve readability.|`CONSTANT`, `MY_CONSTANT`, `MY_LONG_CONSTANT`\n",
    "Module|A short, lowercase word or words. Separate words with underscores to improve readability.|`module.py`, `my_module.py`\n",
    "Package|A short, lowercase word or words. Do not separate words with underscores.|`package`, `mypackage`\n",
    "\n",
    "[source](https://lemariva.com/blog/2019/05/analytics-beautiful-python-using-pep-8)"
   ]
  },
  {
   "cell_type": "markdown",
   "metadata": {},
   "source": [
    "## Modularity\n",
    "\n",
    "3 ways that to write modular code with Python are _packages_, _classes_, and _methods_."
   ]
  },
  {
   "cell_type": "markdown",
   "metadata": {},
   "source": [
    "### Packages\n",
    "\n",
    "> Modules should have short, all-lowercase names. Underscores can be used in the module name if it improves readability. Python packages should also have short, all-lowercase names, although the use of underscores is discouraged.\n",
    "\n",
    "\n",
    "The minimum requirement to make an importable python package is a directory with a blank file named `__init__.py`. Note that `__init__.py` is not required when using Python version 3.3 or above."
   ]
  },
  {
   "cell_type": "code",
   "execution_count": 8,
   "metadata": {},
   "outputs": [
    {
     "name": "stdout",
     "output_type": "stream",
     "text": [
      "\u001b[01;34mmy_package\u001b[00m\n",
      "├── __init__.py\n",
      "├── \u001b[01;34m__pycache__\u001b[00m\n",
      "├── \u001b[01;34mmy_subpackage\u001b[00m\n",
      "└── utils.py\n",
      "\n",
      "2 directories, 2 files\n"
     ]
    }
   ],
   "source": [
    "!tree my_package -L 1"
   ]
  },
  {
   "cell_type": "code",
   "execution_count": 29,
   "metadata": {},
   "outputs": [],
   "source": [
    "# Import local package\n",
    "import my_package\n",
    "\n",
    "# View the help for the package\n",
    "# help(my_package)"
   ]
  },
  {
   "cell_type": "code",
   "execution_count": 35,
   "metadata": {},
   "outputs": [],
   "source": [
    "# %load my_package/__init__"
   ]
  },
  {
   "cell_type": "code",
   "execution_count": 97,
   "metadata": {},
   "outputs": [],
   "source": [
    "# %load my_package/utils"
   ]
  },
  {
   "cell_type": "code",
   "execution_count": 9,
   "metadata": {},
   "outputs": [],
   "source": [
    "from collections import Counter\n",
    "\n",
    "\n",
    "# Create a list of colors\n",
    "col = ['blue', 'red', 'blue', 'blue', 'yellow', 'blue', 'red'] \n",
    "col_count = Counter(col)\n",
    "\n",
    "# Create a list of numbers\n",
    "num = ['one', 'two', 'three', 'three', 'three', 'one'] \n",
    "num_count = Counter(num)\n",
    "\n",
    "word_counts = [col_count, num_count]"
   ]
  },
  {
   "cell_type": "markdown",
   "metadata": {},
   "source": [
    "One way to use the functions is to import directly the `utils.py` file."
   ]
  },
  {
   "cell_type": "code",
   "execution_count": 10,
   "metadata": {},
   "outputs": [
    {
     "data": {
      "image/png": "[encoded data removed]",
      "text/plain": [
       "<Figure size 432x288 with 1 Axes>"
      ]
     },
     "metadata": {
      "needs_background": "light"
     },
     "output_type": "display_data"
    }
   ],
   "source": [
    "import my_package.utils\n",
    "\n",
    "# Sum word_counts using sum_counters from my_package\n",
    "word_count_totals = my_package.utils.sum_counters(word_counts)\n",
    "\n",
    "# Plot word_count_totals using plot_counter from my_package\n",
    "my_package.utils.plot_counter(word_count_totals)"
   ]
  },
  {
   "cell_type": "markdown",
   "metadata": {},
   "source": [
    "Another way is to use `__init__.py`. Writing these functions and importing them to the package's `__init__.py` file (using relative import syntax) will let them be easily accessible by the users.\n",
    "\n",
    "Example:\n",
    "`from .utils import plot_counter, sum_counters`"
   ]
  },
  {
   "cell_type": "code",
   "execution_count": 7,
   "metadata": {},
   "outputs": [
    {
     "data": {
      "image/png": "[encoded data removed]",
      "text/plain": [
       "<Figure size 432x288 with 1 Axes>"
      ]
     },
     "metadata": {
      "needs_background": "light"
     },
     "output_type": "display_data"
    }
   ],
   "source": [
    "# Import local package\n",
    "import my_package\n",
    "\n",
    "# Sum word_counts using sum_counters from my_package\n",
    "word_count_totals = my_package.sum_counters(word_counts)\n",
    "\n",
    "# Plot word_count_totals using plot_counter from my_package\n",
    "my_package.plot_counter(word_count_totals)"
   ]
  },
  {
   "cell_type": "markdown",
   "metadata": {},
   "source": [
    "#### `requirements.txt`\n",
    "\n",
    "Requirements files are lists of packages to install. Using this file, the users can easily recreate the needed environment for the package we're writing.\n",
    "\n",
    "Requirements files give us a way to create an environment: a set of packages that work together. Instead of running something like `pip install MyApp` and getting whatever libraries come along, we can create a requirements file something like:\n",
    "```\n",
    "MyApp\n",
    "Framework==0.9.4\n",
    "Library>=0.2\n",
    "```\n",
    "If we save this in requirements.txt, then we can `pip install -r requirements.txt`.\n",
    "[source](https://pip.readthedocs.io/en/1.1/requirements.html)\n",
    "\n",
    "Additionally, `pip freeze` gives us the standard requirement format that may be used later with `pip install -r` to install requirements from."
   ]
  },
  {
   "cell_type": "code",
   "execution_count": 8,
   "metadata": {},
   "outputs": [],
   "source": [
    "!pip freeze > stable-req.txt"
   ]
  },
  {
   "cell_type": "markdown",
   "metadata": {},
   "source": [
    "#### `setup.py`\n",
    "\n",
    "We need to create a `setup.py` file (using a package such as `setuptools`) to make the package installable by `pip`. This step is also required to publish package to PyPi.\n",
    "\n",
    "\n",
    "`install_requires` can be used to specify dependencies. For instance, when users `pip install` _my_package_, the correct version of `matplotlib` will be automatically handled by pip."
   ]
  },
  {
   "cell_type": "code",
   "execution_count": null,
   "metadata": {},
   "outputs": [],
   "source": [
    "# Import necessary function from setuptools\n",
    "from setuptools import setup\n",
    "\n",
    "# Create proper setup to be used by pip\n",
    "setup(name='my_package',\n",
    "      version='0.0.1',\n",
    "      description='Perform analysis of a given text.',\n",
    "      author='t k',\n",
    "      packages=['my_package'],\n",
    "      install_requires=['matplotlib>=3.0.0'])"
   ]
  },
  {
   "cell_type": "markdown",
   "metadata": {},
   "source": [
    "Note that `requirements.txt` and `setup.py` are in the working directory, but not in the /my_package directory."
   ]
  },
  {
   "cell_type": "markdown",
   "metadata": {},
   "source": [
    "### Classes\n",
    "\n",
    "> Class names should normally use the CapWords convention. The naming convention for functions may be used instead in cases where the interface is documented and used primarily as a callable."
   ]
  },
  {
   "cell_type": "markdown",
   "metadata": {},
   "source": [
    "`document.py`:"
   ]
  },
  {
   "cell_type": "code",
   "execution_count": null,
   "metadata": {},
   "outputs": [],
   "source": [
    "# Define Document class\n",
    "class Document:\n",
    "    \"\"\"A class for text analysis\n",
    "    \n",
    "    :param text: string of text to be analyzed\n",
    "    :ivar text: string of text to be analyzed; set by `text` parameter\n",
    "    \"\"\"\n",
    "    # Method to create a new instance of MyClass\n",
    "    def Document(self, text):\n",
    "        # Store text parameter to the text attribute\n",
    "        self.text = text\n"
   ]
  },
  {
   "cell_type": "code",
   "execution_count": null,
   "metadata": {},
   "outputs": [],
   "source": [
    "class Document:\n",
    "    def __init__(self, text):\n",
    "        self.text = text\n",
    "        # pre tokenize the document with non-public tokenize method\n",
    "        self.tokens = self._tokenize()\n",
    "        # pre tokenize the document with non-public count_words\n",
    "        self.word_counts = self._count_words()\n",
    "    \n",
    "    # non-public method to tokenize\n",
    "    def _tokenize(self):\n",
    "        return tokenize(self.text)\n",
    "\n",
    "    # non-public method to tally document's word counts with Counter\n",
    "    def _count_words(self):\n",
    "        return Counter(self.tokens)"
   ]
  },
  {
   "cell_type": "markdown",
   "metadata": {},
   "source": [
    "`__init__.py`:"
   ]
  },
  {
   "cell_type": "code",
   "execution_count": null,
   "metadata": {},
   "outputs": [],
   "source": [
    "from .document import Document"
   ]
  },
  {
   "cell_type": "markdown",
   "metadata": {},
   "source": [
    "`my_script.py`:"
   ]
  },
  {
   "cell_type": "code",
   "execution_count": null,
   "metadata": {},
   "outputs": [],
   "source": [
    "# Import custom text_analyzer package\n",
    "import text_analyzer\n",
    "\n",
    "# Create an instance of Document with datacamp_tweet\n",
    "my_document = text_analyzer.Document(text=datacamp_tweet)\n",
    "\n",
    "# Print the text attribute of the Document instance\n",
    "print(my_document.text)"
   ]
  },
  {
   "cell_type": "markdown",
   "metadata": {},
   "source": [
    "#### Inheritence"
   ]
  },
  {
   "cell_type": "code",
   "execution_count": null,
   "metadata": {},
   "outputs": [],
   "source": [
    "# Define a SocialMedia class that is a child of the `Document class`\n",
    "class SocialMedia(Document):\n",
    "    def __init__(self, text):\n",
    "        Document.__init__(self, text)\n",
    "        self.hashtag_counts = self._count_hashtags()\n",
    "        self.mention_counts = self._count_mentions()\n",
    "        \n",
    "    def _count_hashtags(self):\n",
    "        # Filter attribute so only words starting with '#' remain\n",
    "        return filter_word_counts(self.word_counts, first_char='#')      \n",
    "    \n",
    "    def _count_mentions(self):\n",
    "        # Filter attribute so only words starting with '@' remain\n",
    "        return filter_word_counts(self.word_counts, first_char='@')"
   ]
  },
  {
   "cell_type": "markdown",
   "metadata": {},
   "source": [
    "## Documentation\n",
    "\n",
    "Documentation in Python can be done with **comments** or **docstrings**. Comments are not seen by the users unless they are looking into the source code. They are intended for ourselves and the collaborators. On the other hand, docstrings are documentation for the users."
   ]
  },
  {
   "cell_type": "markdown",
   "metadata": {},
   "source": [
    "### Comments\n",
    "\n",
    "The purpose of comments is to give implementation details and make the code more readable both for ourselves and the collaborators. It is usually better to explain **why** a line of code is doing something **instead of what** obvious thing it is doing.\n",
    "\n",
    "Comments should be complete sentences. The first word should be capitalized, unless it is an identifier that begins with a lower case letter.\n",
    "\n",
    "#### Block Comments\n",
    "\n",
    "Block comments generally consist of one or more paragraphs built out of complete sentences, with each sentence ending in a period. They generally apply to some (or all) code that follows them, and are indented to the same level as that code. **Paragraphs inside a block** comment are separated by a **line containing a single #**.\n",
    "\n",
    "#### Inline Comments\n",
    "\n",
    "An inline comment is a comment on the same line as a statement. Inline comments should be separated by **at least two spaces** from the statement."
   ]
  },
  {
   "cell_type": "markdown",
   "metadata": {},
   "source": [
    "### Docstrings (Documentation Strings)\n",
    "\n",
    "A docstring is a string literal that occurs as the first statement in a module, function, class, or method definition. Such a docstring becomes the `__doc__` special attribute of that object. Python outputs docstrings when the user calls `help()`.\n",
    "\n",
    "All modules should normally have docstrings, and all functions and classes exported by a module should also have docstrings. Public methods (including the `__init__` constructor) should also have docstrings. A package may be documented in the module docstring of the `__init__.py` file in the package directory.\n",
    "\n",
    "**Module vs. Package vs. Library:**\n",
    "> A module is a file containing Python definitions and statements. The file name is the module name with the suffix `.py` appended. Packages are a way of structuring Python’s module namespace by using “dotted module names”. When a module/package/something else is \"published\" people often refer to it as a library. Often libraries contain a package or multiple related packages, but it could be even a single module.\n",
    "\n",
    "\n",
    "Docstrings are not necessary for _non-public_ methods, but we should have a comment that describes what the method does. This comment should appear after the `def` line.\n",
    "\n",
    "[More on Docstring Conventions (PEP 257)](https://www.python.org/dev/peps/pep-0257/)"
   ]
  },
  {
   "cell_type": "markdown",
   "metadata": {},
   "source": [
    "Example docstring of part of the sklearn LinearRegression class:"
   ]
  },
  {
   "cell_type": "code",
   "execution_count": null,
   "metadata": {},
   "outputs": [],
   "source": [
    "class LinearRegression(MultiOutputMixin, RegressorMixin, LinearModel):\n",
    "    \"\"\"\n",
    "    Ordinary least squares Linear Regression.\n",
    "    \n",
    "    LinearRegression fits a linear model with coefficients w = (w1, ..., wp)\n",
    "    to minimize the residual sum of squares between the observed targets in\n",
    "    the dataset, and the targets predicted by the linear approximation.\n",
    "    \n",
    "    Parameters\n",
    "    ----------\n",
    "    fit_intercept : bool, optional, default True\n",
    "        Whether to calculate the intercept for this model. If set\n",
    "        to False, no intercept will be used in calculations\n",
    "        (i.e. data is expected to be centered).\n",
    "    ....\n",
    "\n",
    "    Attributes\n",
    "    ----------\n",
    "    coef_ : array of shape (n_features, ) or (n_targets, n_features)\n",
    "        Estimated coefficients for the linear regression problem.\n",
    "        If multiple targets are passed during the fit (y 2D), this\n",
    "        is a 2D array of shape (n_targets, n_features), while if only\n",
    "        one target is passed, this is a 1D array of length n_features.\n",
    "    ...\n",
    "\n",
    "    Examples\n",
    "    --------\n",
    "    >>> import numpy as np\n",
    "    >>> from sklearn.linear_model import LinearRegression\n",
    "    >>> X = np.array([[1, 1], [1, 2], [2, 2], [2, 3]])\n",
    "    >>> # y = 1 * x_0 + 2 * x_1 + 3\n",
    "    >>> y = np.dot(X, np.array([1, 2])) + 3\n",
    "    >>> reg = LinearRegression().fit(X, y)\n",
    "    >>> reg.score(X, y)\n",
    "    1.0\n",
    "    \"\"\"\n",
    "    \n",
    "    # function code"
   ]
  },
  {
   "cell_type": "markdown",
   "metadata": {},
   "source": [
    "> Writing docstrings that can be utilized by a documentation generator like `Sphinx` is also useful."
   ]
  },
  {
   "cell_type": "code",
   "execution_count": null,
   "metadata": {},
   "outputs": [],
   "source": [
    "def function(x):\n",
    "    \"\"\"High level description of function.\n",
    "    \n",
    "    Additional details on function.\n",
    "    \n",
    "    :param x: description of parameter x \n",
    "    :return: description of return value\n",
    "    \n",
    "    >>> # Example function usage\n",
    "    Expected output of example function usage\n",
    "    \"\"\"\n",
    "    \n",
    "    # code"
   ]
  },
  {
   "cell_type": "code",
   "execution_count": null,
   "metadata": {},
   "outputs": [],
   "source": [
    "# Complete the function's docstring\n",
    "def tokenize(text, regex=r'[a-zA-z]+'):\n",
    "    \"\"\"Split text into tokens using a regular expression\n",
    "\n",
    "    :param text: text to be tokenized\n",
    "    :param regex: regular expression used to match tokens using re.findall \n",
    "    :return: a list of resulting tokens\n",
    "\n",
    "    >>> tokenize('the rain in spain')\n",
    "    ['the', 'rain', 'in', 'spain']\n",
    "    \"\"\"\n",
    "    return re.findall(regex, text, flags=re.IGNORECASE)\n",
    "\n",
    "# Print the docstring\n",
    "help(tokenize)"
   ]
  },
  {
   "cell_type": "markdown",
   "metadata": {},
   "source": [
    "### Documenting Projects\n",
    "\n",
    "It is possible to transform docstrings into documentation in various formats including HTML and LaTeX. [Sphinx](http://www.sphinx-doc.org/en/master/) is a tool that makes it easy to create intelligent and beautiful documentation."
   ]
  },
  {
   "cell_type": "code",
   "execution_count": null,
   "metadata": {},
   "outputs": [],
   "source": [
    "from text_analyzer import Document\n",
    "\n",
    "class SocialMedia(Document):\n",
    "    \"\"\"Analyze text data from social media\n",
    "    \n",
    "    :param text: social media text to analyze\n",
    "\n",
    "    :ivar hashtag_counts: Counter object containing counts of hashtags used in text\n",
    "    :ivar mention_counts: Counter object containing counts of @mentions used in text\n",
    "    \"\"\"\n",
    "    def __init__(self, text):\n",
    "        Document.__init__(self, text)\n",
    "        self.hashtag_counts = self._count_hashtags()\n",
    "        self.mention_counts = self._count_mentions()"
   ]
  },
  {
   "cell_type": "markdown",
   "metadata": {},
   "source": [
    "## Unit Testing\n",
    "\n",
    "Unit Testing is the first level of software testing where the smallest testable parts of a software are tested. This is used to validate that each unit of the software performs as designed. We can confirm our code is working as intended by testing.\n",
    "\n",
    "There are many test runners available for Python. Some runners are as follows:\n",
    "- [unittest](https://docs.python.org/3/library/unittest.html): The unittest unit testing framework which supports test automation, sharing of setup and shutdown code for tests, aggregation of tests into collections, and independence of the tests from the reporting framework.\n",
    "- [doctest](https://docs.python.org/3/library/unittest.html): The doctest module searches for pieces of text that look like interactive Python sessions, and then executes those sessions to verify that they work exactly as shown. doctest is a simple way to minimally test the functions.\n",
    "- [pytest](https://docs.pytest.org/en/latest/): The pytest framework makes it easy to write small tests, yet scales to support complex functional testing for applications and libraries. (Note that pytest only tests files who's names start or end with 'test')"
   ]
  },
  {
   "cell_type": "markdown",
   "metadata": {},
   "source": [
    "### Continuous Integration (CI)\n",
    "\n",
    "Continuous Integration is the practice of merging in small code changes frequently - rather than merging in a large change at the end of a development cycle. The goal is to build healthier software by developing and testing in smaller increments. Tools such as [Travis CI](https://travis-ci.com) can be used for this purpose.\n",
    "\n",
    "Travis CI supports your development process by automatically building and testing code changes, providing immediate feedback on the success of the change. Travis CI can also automate other parts of your development process by managing deployments and notifications."
   ]
  },
  {
   "cell_type": "markdown",
   "metadata": {},
   "source": [
    "Some other tools useful for Software Engineering are:\n",
    "- Codecov: Discover where to improve your projects tests.\n",
    "- Code Climate: Analyze your code for improvements in readability/modularity."
   ]
  },
  {
   "cell_type": "code",
   "execution_count": null,
   "metadata": {},
   "outputs": [],
   "source": []
  }
 ],
 "metadata": {
  "kernelspec": {
   "display_name": "Python 3",
   "language": "python",
   "name": "python3"
  },
  "language_info": {
   "codemirror_mode": {
    "name": "ipython",
    "version": 3
   },
   "file_extension": ".py",
   "mimetype": "text/x-python",
   "name": "python",
   "nbconvert_exporter": "python",
   "pygments_lexer": "ipython3",
   "version": "3.7.6"
  },
  "toc-autonumbering": false
 },
 "nbformat": 4,
 "nbformat_minor": 4
}
